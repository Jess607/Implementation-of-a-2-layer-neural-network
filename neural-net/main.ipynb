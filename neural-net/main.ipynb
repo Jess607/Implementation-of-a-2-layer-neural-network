{
 "cells": [
  {
   "attachments": {},
   "cell_type": "markdown",
   "metadata": {},
   "source": [
    "### Building a simple classification model with our NN class"
   ]
  },
  {
   "cell_type": "code",
   "execution_count": 1,
   "metadata": {},
   "outputs": [],
   "source": [
    "#import modules\n",
    "from neural import NN\n",
    "from sklearn import datasets"
   ]
  },
  {
   "cell_type": "code",
   "execution_count": 2,
   "metadata": {},
   "outputs": [
    {
     "data": {
      "text/plain": [
       "array([[1.799e+01, 1.038e+01, 1.228e+02, ..., 2.654e-01, 4.601e-01,\n",
       "        1.189e-01],\n",
       "       [2.057e+01, 1.777e+01, 1.329e+02, ..., 1.860e-01, 2.750e-01,\n",
       "        8.902e-02],\n",
       "       [1.969e+01, 2.125e+01, 1.300e+02, ..., 2.430e-01, 3.613e-01,\n",
       "        8.758e-02],\n",
       "       ...,\n",
       "       [1.660e+01, 2.808e+01, 1.083e+02, ..., 1.418e-01, 2.218e-01,\n",
       "        7.820e-02],\n",
       "       [2.060e+01, 2.933e+01, 1.401e+02, ..., 2.650e-01, 4.087e-01,\n",
       "        1.240e-01],\n",
       "       [7.760e+00, 2.454e+01, 4.792e+01, ..., 0.000e+00, 2.871e-01,\n",
       "        7.039e-02]])"
      ]
     },
     "execution_count": 2,
     "metadata": {},
     "output_type": "execute_result"
    }
   ],
   "source": [
    "#loading dataset\n",
    "data=datasets.load_breast_cancer()\n",
    "X=data.data\n",
    "X"
   ]
  },
  {
   "cell_type": "code",
   "execution_count": 3,
   "metadata": {},
   "outputs": [
    {
     "data": {
      "text/plain": [
       "(569, 30)"
      ]
     },
     "execution_count": 3,
     "metadata": {},
     "output_type": "execute_result"
    }
   ],
   "source": [
    "#Shape of X\n",
    "X.shape"
   ]
  },
  {
   "cell_type": "code",
   "execution_count": 4,
   "metadata": {},
   "outputs": [
    {
     "data": {
      "text/plain": [
       "array([0, 0, 0, 0, 0, 0, 0, 0, 0, 0, 0, 0, 0, 0, 0, 0, 0, 0, 0, 1, 1, 1,\n",
       "       0, 0, 0, 0, 0, 0, 0, 0, 0, 0, 0, 0, 0, 0, 0, 1, 0, 0, 0, 0, 0, 0,\n",
       "       0, 0, 1, 0, 1, 1, 1, 1, 1, 0, 0, 1, 0, 0, 1, 1, 1, 1, 0, 1, 0, 0,\n",
       "       1, 1, 1, 1, 0, 1, 0, 0, 1, 0, 1, 0, 0, 1, 1, 1, 0, 0, 1, 0, 0, 0,\n",
       "       1, 1, 1, 0, 1, 1, 0, 0, 1, 1, 1, 0, 0, 1, 1, 1, 1, 0, 1, 1, 0, 1,\n",
       "       1, 1, 1, 1, 1, 1, 1, 0, 0, 0, 1, 0, 0, 1, 1, 1, 0, 0, 1, 0, 1, 0,\n",
       "       0, 1, 0, 0, 1, 1, 0, 1, 1, 0, 1, 1, 1, 1, 0, 1, 1, 1, 1, 1, 1, 1,\n",
       "       1, 1, 0, 1, 1, 1, 1, 0, 0, 1, 0, 1, 1, 0, 0, 1, 1, 0, 0, 1, 1, 1,\n",
       "       1, 0, 1, 1, 0, 0, 0, 1, 0, 1, 0, 1, 1, 1, 0, 1, 1, 0, 0, 1, 0, 0,\n",
       "       0, 0, 1, 0, 0, 0, 1, 0, 1, 0, 1, 1, 0, 1, 0, 0, 0, 0, 1, 1, 0, 0,\n",
       "       1, 1, 1, 0, 1, 1, 1, 1, 1, 0, 0, 1, 1, 0, 1, 1, 0, 0, 1, 0, 1, 1,\n",
       "       1, 1, 0, 1, 1, 1, 1, 1, 0, 1, 0, 0, 0, 0, 0, 0, 0, 0, 0, 0, 0, 0,\n",
       "       0, 0, 1, 1, 1, 1, 1, 1, 0, 1, 0, 1, 1, 0, 1, 1, 0, 1, 0, 0, 1, 1,\n",
       "       1, 1, 1, 1, 1, 1, 1, 1, 1, 1, 1, 0, 1, 1, 0, 1, 0, 1, 1, 1, 1, 1,\n",
       "       1, 1, 1, 1, 1, 1, 1, 1, 1, 0, 1, 1, 1, 0, 1, 0, 1, 1, 1, 1, 0, 0,\n",
       "       0, 1, 1, 1, 1, 0, 1, 0, 1, 0, 1, 1, 1, 0, 1, 1, 1, 1, 1, 1, 1, 0,\n",
       "       0, 0, 1, 1, 1, 1, 1, 1, 1, 1, 1, 1, 1, 0, 0, 1, 0, 0, 0, 1, 0, 0,\n",
       "       1, 1, 1, 1, 1, 0, 1, 1, 1, 1, 1, 0, 1, 1, 1, 0, 1, 1, 0, 0, 1, 1,\n",
       "       1, 1, 1, 1, 0, 1, 1, 1, 1, 1, 1, 1, 0, 1, 1, 1, 1, 1, 0, 1, 1, 0,\n",
       "       1, 1, 1, 1, 1, 1, 1, 1, 1, 1, 1, 1, 0, 1, 0, 0, 1, 0, 1, 1, 1, 1,\n",
       "       1, 0, 1, 1, 0, 1, 0, 1, 1, 0, 1, 0, 1, 1, 1, 1, 1, 1, 1, 1, 0, 0,\n",
       "       1, 1, 1, 1, 1, 1, 0, 1, 1, 1, 1, 1, 1, 1, 1, 1, 1, 0, 1, 1, 1, 1,\n",
       "       1, 1, 1, 0, 1, 0, 1, 1, 0, 1, 1, 1, 1, 1, 0, 0, 1, 0, 1, 0, 1, 1,\n",
       "       1, 1, 1, 0, 1, 1, 0, 1, 0, 1, 0, 0, 1, 1, 1, 0, 1, 1, 1, 1, 1, 1,\n",
       "       1, 1, 1, 1, 1, 0, 1, 0, 0, 1, 1, 1, 1, 1, 1, 1, 1, 1, 1, 1, 1, 1,\n",
       "       1, 1, 1, 1, 1, 1, 1, 1, 1, 1, 1, 1, 0, 0, 0, 0, 0, 0, 1])"
      ]
     },
     "execution_count": 4,
     "metadata": {},
     "output_type": "execute_result"
    }
   ],
   "source": [
    "y=data.target\n",
    "y"
   ]
  },
  {
   "cell_type": "code",
   "execution_count": 5,
   "metadata": {},
   "outputs": [
    {
     "data": {
      "text/plain": [
       "(569,)"
      ]
     },
     "execution_count": 5,
     "metadata": {},
     "output_type": "execute_result"
    }
   ],
   "source": [
    "#Shape of y\n",
    "y.shape"
   ]
  },
  {
   "attachments": {},
   "cell_type": "markdown",
   "metadata": {},
   "source": [
    "Building our model"
   ]
  },
  {
   "cell_type": "code",
   "execution_count": 7,
   "metadata": {},
   "outputs": [
    {
     "name": "stdout",
     "output_type": "stream",
     "text": [
      "The loss after 0 iteration is 1.119476186849478\n",
      "The loss after 1 iteration is 0.9138304229140471\n",
      "The loss after 2 iteration is 0.9066200793362127\n",
      "The loss after 3 iteration is 0.8995449772789162\n",
      "The loss after 4 iteration is 0.8926053863542651\n",
      "The loss after 5 iteration is 0.8858014762036026\n",
      "The loss after 6 iteration is 0.8791333157038516\n",
      "The loss after 7 iteration is 0.872600872462839\n",
      "The loss after 8 iteration is 0.8662040126077539\n",
      "The loss after 9 iteration is 0.8599425008691759\n",
      "The loss after 10 iteration is 0.853816000961279\n",
      "The loss after 11 iteration is 0.8478240762570363\n",
      "The loss after 12 iteration is 0.8419661907554352\n",
      "The loss after 13 iteration is 0.8362417103359343\n",
      "The loss after 14 iteration is 0.8306499042936645\n",
      "The loss after 15 iteration is 0.8251899471471875\n",
      "The loss after 16 iteration is 0.819860920709044\n",
      "The loss after 17 iteration is 0.8146618164077877\n",
      "The loss after 18 iteration is 0.8095915378488379\n",
      "The loss after 19 iteration is 0.8046489036001668\n",
      "The loss after 20 iteration is 0.7998326501877173\n",
      "The loss after 21 iteration is 0.795141435284419\n",
      "The loss after 22 iteration is 0.7905738410758247\n",
      "The loss after 23 iteration is 0.7861283777846689\n",
      "The loss after 24 iteration is 0.7818034873361135\n",
      "The loss after 25 iteration is 0.7775975471450334\n",
      "The loss after 26 iteration is 0.7735088740064826\n",
      "The loss after 27 iteration is 0.7695357280703709\n",
      "The loss after 28 iteration is 0.7656763168814712\n",
      "The loss after 29 iteration is 0.7619287994660736\n",
      "The loss after 30 iteration is 0.7582912904469504\n",
      "The loss after 31 iteration is 0.7547618641687702\n",
      "The loss after 32 iteration is 0.7513385588166825\n",
      "The loss after 33 iteration is 0.7480193805114932\n",
      "The loss after 34 iteration is 0.7448023073656299\n",
      "The loss after 35 iteration is 0.7416852934849757\n",
      "The loss after 36 iteration is 0.7386662729025723\n",
      "The loss after 37 iteration is 0.7357431634312055\n",
      "The loss after 38 iteration is 0.7329138704229072\n",
      "The loss after 39 iteration is 0.7301762904244887\n",
      "The loss after 40 iteration is 0.7275283147193081\n",
      "The loss after 41 iteration is 0.7249678327465748\n",
      "The loss after 42 iteration is 0.7224927353905868\n",
      "The loss after 43 iteration is 0.7201009181333947\n",
      "The loss after 44 iteration is 0.7177902840654432\n",
      "The loss after 45 iteration is 0.7155587467497849\n",
      "The loss after 46 iteration is 0.7134042329364655\n",
      "The loss after 47 iteration is 0.7113246851246375\n",
      "The loss after 48 iteration is 0.7093180639708851\n",
      "The loss after 49 iteration is 0.7073823505430932\n",
      "The loss after 50 iteration is 0.7055155484200166\n",
      "The loss after 51 iteration is 0.7037156856374563\n",
      "The loss after 52 iteration is 0.7019808164826357\n",
      "The loss after 53 iteration is 0.7003090231390166\n",
      "The loss after 54 iteration is 0.6986984171843599\n",
      "The loss after 55 iteration is 0.6971471409453549\n",
      "The loss after 56 iteration is 0.6956533687125955\n",
      "The loss after 57 iteration is 0.6942153078200785\n",
      "The loss after 58 iteration is 0.6928311995937418\n",
      "The loss after 59 iteration is 0.6914993201738503\n",
      "The loss after 60 iteration is 0.6902179812162675\n",
      "The loss after 61 iteration is 0.6889855304778494\n",
      "The loss after 62 iteration is 0.6878003522913295\n",
      "The loss after 63 iteration is 0.6866608679351696\n",
      "The loss after 64 iteration is 0.6855655359039106\n",
      "The loss after 65 iteration is 0.684512852084581\n",
      "The loss after 66 iteration is 0.6835013498447107\n",
      "The loss after 67 iteration is 0.682529600037458\n",
      "The loss after 68 iteration is 0.6815962109292967\n",
      "The loss after 69 iteration is 0.6806998280556128\n",
      "The loss after 70 iteration is 0.6798391340094528\n",
      "The loss after 71 iteration is 0.6790128481685365\n",
      "The loss after 72 iteration is 0.6782197263654994\n",
      "The loss after 73 iteration is 0.6774585605061743\n",
      "The loss after 74 iteration is 0.6767281781405481\n",
      "The loss after 75 iteration is 0.6760274419908558\n",
      "The loss after 76 iteration is 0.6753552494410863\n",
      "The loss after 77 iteration is 0.6747105319919827\n",
      "The loss after 78 iteration is 0.6740922546854335\n",
      "The loss after 79 iteration is 0.6734994155019459\n",
      "The loss after 80 iteration is 0.6729310447347069\n",
      "The loss after 81 iteration is 0.6723862043435368\n",
      "The loss after 82 iteration is 0.6718639872918494\n",
      "The loss after 83 iteration is 0.671363516869544\n",
      "The loss after 84 iteration is 0.6708839460045678\n",
      "The loss after 85 iteration is 0.6704244565657047\n",
      "The loss after 86 iteration is 0.6699842586589706\n",
      "The loss after 87 iteration is 0.6695625899198251\n",
      "The loss after 88 iteration is 0.6691587148032407\n",
      "The loss after 89 iteration is 0.6687719238735185\n",
      "The loss after 90 iteration is 0.6684015330955765\n",
      "The loss after 91 iteration is 0.6680468831292999\n",
      "The loss after 92 iteration is 0.6677073386283993\n",
      "The loss after 93 iteration is 0.6673822875450887\n",
      "The loss after 94 iteration is 0.6670711404417726\n",
      "The loss after 95 iteration is 0.6667733298108108\n",
      "The loss after 96 iteration is 0.6664883094033155\n",
      "The loss after 97 iteration is 0.6662155535678337\n",
      "The loss after 98 iteration is 0.6659545565996613\n",
      "The loss after 99 iteration is 0.6657048321014523\n"
     ]
    }
   ],
   "source": [
    "#Building our model\n",
    "model=NN(X,y)\n",
    "#We will use 4 units in our hidden layer with 100 iterations and 0.1 learning rate\n",
    "loss=model.compile(4, 100, 0.1)\n",
    "for i in range(len(loss)):\n",
    "    print(f'The loss after {i} iteration is {loss[i]}')"
   ]
  },
  {
   "attachments": {},
   "cell_type": "markdown",
   "metadata": {},
   "source": [
    "Loss has dropped to 0.6657 after 100 iterations with 0.1 learning rate with 4 neurons "
   ]
  },
  {
   "cell_type": "code",
   "execution_count": 8,
   "metadata": {},
   "outputs": [
    {
     "name": "stderr",
     "output_type": "stream",
     "text": [
      "c:\\Users\\JESSICA\\Desktop\\Implementation-of-a-2-layer-neural-network\\neural-net\\neural.py:47: RuntimeWarning: overflow encountered in exp\n",
      "  Sigmmoid activation function 1/(1+e-z) popularly used for binary classification\n"
     ]
    },
    {
     "data": {
      "image/png": "[encoded data removed]",
      "text/plain": [
       "<Figure size 500x600 with 1 Axes>"
      ]
     },
     "metadata": {},
     "output_type": "display_data"
    }
   ],
   "source": [
    "#Visualizing our results\n",
    "model.plot_loss(4,100,0.1)"
   ]
  },
  {
   "cell_type": "code",
   "execution_count": null,
   "metadata": {},
   "outputs": [],
   "source": []
  }
 ],
 "metadata": {
  "kernelspec": {
   "display_name": "neural-net",
   "language": "python",
   "name": "python3"
  },
  "language_info": {
   "codemirror_mode": {
    "name": "ipython",
    "version": 3
   },
   "file_extension": ".py",
   "mimetype": "text/x-python",
   "name": "python",
   "nbconvert_exporter": "python",
   "pygments_lexer": "ipython3",
   "version": "3.10.0"
  },
  "orig_nbformat": 4,
  "vscode": {
   "interpreter": {
    "hash": "798b781d6e41f4049a8ee24a6ce6de1c74e96f9b8a9a997769781f79acaadf68"
   }
  }
 },
 "nbformat": 4,
 "nbformat_minor": 2
}
